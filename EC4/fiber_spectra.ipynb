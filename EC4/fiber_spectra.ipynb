{
 "metadata": {
  "language_info": {
   "codemirror_mode": {
    "name": "ipython",
    "version": 3
   },
   "file_extension": ".py",
   "mimetype": "text/x-python",
   "name": "python",
   "nbconvert_exporter": "python",
   "pygments_lexer": "ipython3",
   "version": "3.7.4-final"
  },
  "orig_nbformat": 2,
  "kernelspec": {
   "name": "python3",
   "display_name": "Python 3"
  }
 },
 "nbformat": 4,
 "nbformat_minor": 2,
 "cells": [
  {
   "cell_type": "code",
   "execution_count": 2,
   "metadata": {},
   "outputs": [],
   "source": [
    "# import mods\n",
    "import pandas as pd\n",
    "import plotly.express as px\n",
    "import plotly.graph_objects as go\n",
    "import plotly.io as pio\n",
    "from scipy.signal import find_peaks"
   ]
  },
  {
   "cell_type": "code",
   "execution_count": 88,
   "metadata": {},
   "outputs": [],
   "source": [
    "# data processing\n",
    "def read_data(filename):\n",
    "    data = pd.read_csv(filename, header = 18, skip_blank_lines = False)\n",
    "    specs = pd.read_csv(filename, header = 8, skip_blank_lines = False, nrows = 2)\n",
    "    width = pd.to_numeric(specs.loc[1][1])\n",
    "    height = pd.to_numeric(specs.loc[1][2])\n",
    "    data['Stress'] = pd.to_numeric(data.loc[1:,'Force'])*1000/(width*height)\n",
    "    data['Stroke Strain (%)'] = pd.to_numeric(data.loc[1:,'Stroke'])/60*100\n",
    "    data['instantaneous_gradient'] = data['Stress'].diff()\n",
    "    data = data.drop(0)\n",
    "    return data"
   ]
  },
  {
   "cell_type": "code",
   "execution_count": 89,
   "metadata": {},
   "outputs": [
    {
     "output_type": "stream",
     "name": "stdout",
     "text": [
      "      Time       Force Stroke  Unnamed: 3  Unnamed: 4  Unnamed: 5  Unnamed: 6  \\\n1        0  -0.0003125      0         NaN         NaN         NaN         NaN   \n2     0.05   -0.000625      0         NaN         NaN         NaN         NaN   \n3      0.1   0.0009375  0.004         NaN         NaN         NaN         NaN   \n4     0.15   0.0084375  0.012         NaN         NaN         NaN         NaN   \n5      0.2   0.0234375   0.02         NaN         NaN         NaN         NaN   \n..     ...         ...    ...         ...         ...         ...         ...   \n508  25.35    6.242188  4.212         NaN         NaN         NaN         NaN   \n509   25.4    6.256875   4.22         NaN         NaN         NaN         NaN   \n510  25.45    6.269063  4.228         NaN         NaN         NaN         NaN   \n511  25.45    6.269063  4.228         NaN         NaN         NaN         NaN   \n512  25.45    6.269063  4.228         NaN         NaN         NaN         NaN   \n\n     Unnamed: 7  Unnamed: 8  Unnamed: 9  Unnamed: 10  Unnamed: 11  \\\n1           NaN         NaN         NaN          NaN          NaN   \n2           NaN         NaN         NaN          NaN          NaN   \n3           NaN         NaN         NaN          NaN          NaN   \n4           NaN         NaN         NaN          NaN          NaN   \n5           NaN         NaN         NaN          NaN          NaN   \n..          ...         ...         ...          ...          ...   \n508         NaN         NaN         NaN          NaN          NaN   \n509         NaN         NaN         NaN          NaN          NaN   \n510         NaN         NaN         NaN          NaN          NaN   \n511         NaN         NaN         NaN          NaN          NaN   \n512         NaN         NaN         NaN          NaN          NaN   \n\n     Unnamed: 12      Stress  Stroke Strain (%)  instantaneous_gradient  \n1            NaN   -0.017299           0.000000                     NaN  \n2            NaN   -0.034599           0.000000               -0.017299  \n3            NaN    0.051898           0.006667                0.086497  \n4            NaN    0.467084           0.020000                0.415186  \n5            NaN    1.297456           0.033333                0.830372  \n..           ...         ...                ...                     ...  \n508          NaN  345.555740           7.020000                0.830372  \n509          NaN  346.368785           7.033333                0.813045  \n510          NaN  347.043489           7.046667                0.674705  \n511          NaN  347.043489           7.046667                0.000000  \n512          NaN  347.043489           7.046667                0.000000  \n\n[512 rows x 16 columns]\n"
     ]
    }
   ],
   "source": [
    "# check data\n",
    "print(read_data(\"CF1.csv\"))"
   ]
  },
  {
   "cell_type": "code",
   "execution_count": 75,
   "metadata": {},
   "outputs": [],
   "source": [
    "# draw figures\n",
    "# colours are dark to light\n",
    "\n",
    "color_blues = ['#004d99','#0066cc','#0080ff','#3399ff','#66b3ff', '#99ccff']\n",
    "color_reds = ['#560319', '#940000', '#b30000', '#cc0000', '#ff4747', '#f08080']\n",
    "\n",
    "def drawfig(filename, fig, to_plot, color):\n",
    "    df = read_data(filename)\n",
    "\n",
    "    fig.add_trace(\n",
    "        go.Scatter(\n",
    "            x = df[\"Stroke Strain (%)\"],\n",
    "            y = to_plot,\n",
    "            mode = \"lines\",\n",
    "            line_color = color[int(filename[2:-4])],\n",
    "            name = filename[:-4],\n",
    "            showlegend = True\n",
    "        )\n",
    "    )\n",
    "    return"
   ]
  },
  {
   "cell_type": "code",
   "execution_count": 111,
   "metadata": {},
   "outputs": [],
   "source": [
    "# format figures\n",
    "files = [\"CF1.csv\",\"CF2.csv\",\"CF3.csv\",\"CF4.csv\",\"CF5.csv\"]\n",
    "files2 = [\"GF1.csv\",\"GF2.csv\",\"GF3.csv\",\"GF4.csv\",\"GF5.csv\"]\n",
    "\n",
    "def fig_draw(status, array, pic_name, title_name, to_plot, color, save):\n",
    "    # use this for combined graphs\n",
    "    if status == 'multiple':\n",
    "        fig = go.Figure()\n",
    "\n",
    "    for i in array:\n",
    "        # use this fig for indiv graphs\n",
    "        if status == 'indiv':\n",
    "            fig = go.Figure()\n",
    "        \n",
    "        for j in to_plot:\n",
    "            drawfig(i, fig, read_data(i)[to_plot[i]], color)\n",
    "\n",
    "        if status == 'indiv':\n",
    "            fig.update_layout(\n",
    "                title = i[:-4]\n",
    "            )\n",
    "        \n",
    "        if status == 'multiple':\n",
    "            fig.update_layout(\n",
    "                title = title_name\n",
    "            )\n",
    "\n",
    "        fig.update_layout(\n",
    "        xaxis = dict(\n",
    "            title = \"Stroke Strain (%)\",\n",
    "            showline = True,\n",
    "            linecolor = \"black\",\n",
    "            linewidth = 2,\n",
    "            mirror = \"ticks\",\n",
    "            ticks = \"inside\",\n",
    "            showticklabels = True),\n",
    "\n",
    "        yaxis = dict(\n",
    "            title = \"Stress (N/mm2)\",\n",
    "            showline = True,\n",
    "            linecolor = \"black\",\n",
    "            linewidth = 2,\n",
    "            mirror = \"ticks\",\n",
    "            ticks = \"inside\",\n",
    "            showticklabels = True\n",
    "        ),\n",
    "\n",
    "        plot_bgcolor = \"white\",\n",
    "\n",
    "        font = dict(\n",
    "            family = \"Times New Roman\"\n",
    "            )\n",
    "    )\n",
    "        if status == 'indiv':\n",
    "            # for indiv graph\n",
    "            fig.show()\n",
    "\n",
    "            if save:\n",
    "                fig.write_image(i[:-4] + \".png\")\n",
    "\n",
    "    if status == 'multiple':\n",
    "        # toggle for combined graphs\n",
    "        fig.show()\n",
    "        \n",
    "        if save:\n",
    "            fig.write_image(pic_name + \".png\")\n",
    "    return"
   ]
  },
  {
   "cell_type": "code",
   "execution_count": 113,
   "metadata": {},
   "outputs": [
    {
     "output_type": "error",
     "ename": "TypeError",
     "evalue": "string indices must be integers",
     "traceback": [
      "\u001b[1;31m---------------------------------------------------------------------------\u001b[0m",
      "\u001b[1;31mTypeError\u001b[0m                                 Traceback (most recent call last)",
      "\u001b[1;32m<ipython-input-113-98df2718a9b6>\u001b[0m in \u001b[0;36m<module>\u001b[1;34m\u001b[0m\n\u001b[1;32m----> 1\u001b[1;33m \u001b[0mfig_draw\u001b[0m\u001b[1;33m(\u001b[0m\u001b[1;34m'indiv'\u001b[0m\u001b[1;33m,\u001b[0m \u001b[0mfiles2\u001b[0m\u001b[1;33m,\u001b[0m \u001b[1;34m'test'\u001b[0m\u001b[1;33m,\u001b[0m \u001b[1;34m'testing'\u001b[0m\u001b[1;33m,\u001b[0m \u001b[1;34m'instantaneous_gradient'\u001b[0m\u001b[1;33m,\u001b[0m \u001b[0mcolor_reds\u001b[0m\u001b[1;33m,\u001b[0m \u001b[1;32mFalse\u001b[0m\u001b[1;33m)\u001b[0m\u001b[1;33m\u001b[0m\u001b[1;33m\u001b[0m\u001b[0m\n\u001b[0m\u001b[0;32m      2\u001b[0m \u001b[1;33m\u001b[0m\u001b[0m\n\u001b[0;32m      3\u001b[0m \u001b[0mfig_draw\u001b[0m\u001b[1;33m(\u001b[0m\u001b[1;34m'multiple'\u001b[0m\u001b[1;33m,\u001b[0m \u001b[0mfiles2\u001b[0m\u001b[1;33m,\u001b[0m \u001b[1;34m'test'\u001b[0m\u001b[1;33m,\u001b[0m \u001b[1;34m'testing'\u001b[0m\u001b[1;33m,\u001b[0m \u001b[1;34m'instantaneous_gradient'\u001b[0m\u001b[1;33m,\u001b[0m \u001b[0mcolor_reds\u001b[0m\u001b[1;33m,\u001b[0m \u001b[1;32mFalse\u001b[0m\u001b[1;33m)\u001b[0m\u001b[1;33m\u001b[0m\u001b[1;33m\u001b[0m\u001b[0m\n",
      "\u001b[1;32m<ipython-input-111-4fdc680c591a>\u001b[0m in \u001b[0;36mfig_draw\u001b[1;34m(status, array, pic_name, title_name, to_plot, color, save)\u001b[0m\n\u001b[0;32m     14\u001b[0m \u001b[1;33m\u001b[0m\u001b[0m\n\u001b[0;32m     15\u001b[0m         \u001b[1;32mfor\u001b[0m \u001b[0mj\u001b[0m \u001b[1;32min\u001b[0m \u001b[0mto_plot\u001b[0m\u001b[1;33m:\u001b[0m\u001b[1;33m\u001b[0m\u001b[1;33m\u001b[0m\u001b[0m\n\u001b[1;32m---> 16\u001b[1;33m             \u001b[0mdrawfig\u001b[0m\u001b[1;33m(\u001b[0m\u001b[0mi\u001b[0m\u001b[1;33m,\u001b[0m \u001b[0mfig\u001b[0m\u001b[1;33m,\u001b[0m \u001b[0mread_data\u001b[0m\u001b[1;33m(\u001b[0m\u001b[0mi\u001b[0m\u001b[1;33m)\u001b[0m\u001b[1;33m[\u001b[0m\u001b[0mto_plot\u001b[0m\u001b[1;33m[\u001b[0m\u001b[0mj\u001b[0m\u001b[1;33m]\u001b[0m\u001b[1;33m]\u001b[0m\u001b[1;33m,\u001b[0m \u001b[0mcolor\u001b[0m\u001b[1;33m)\u001b[0m\u001b[1;33m\u001b[0m\u001b[1;33m\u001b[0m\u001b[0m\n\u001b[0m\u001b[0;32m     17\u001b[0m \u001b[1;33m\u001b[0m\u001b[0m\n\u001b[0;32m     18\u001b[0m         \u001b[1;32mif\u001b[0m \u001b[0mstatus\u001b[0m \u001b[1;33m==\u001b[0m \u001b[1;34m'indiv'\u001b[0m\u001b[1;33m:\u001b[0m\u001b[1;33m\u001b[0m\u001b[1;33m\u001b[0m\u001b[0m\n",
      "\u001b[1;31mTypeError\u001b[0m: string indices must be integers"
     ]
    }
   ],
   "source": [
    "fig_draw('indiv', files2, 'test', 'testing', ['instantaneous_gradient'], color_reds, False)\n",
    "\n",
    "fig_draw('multiple', files2, 'test', 'testing', ['instantaneous_gradient'], color_reds, False)"
   ]
  },
  {
   "cell_type": "code",
   "execution_count": 27,
   "metadata": {},
   "outputs": [
    {
     "output_type": "stream",
     "name": "stdout",
     "text": [
      "347.04348933249184 CF1.csv\n",
      "306.2622254823509 CF2.csv\n",
      "280.8515014397367 CF3.csv\n",
      "369.7812580719715 CF4.csv\n",
      "365.15605788466877 CF5.csv\n",
      "146.73136073616516 GF1.csv\n",
      "162.83560390227058 GF2.csv\n",
      "176.16334283000947 GF3.csv\n",
      "160.90863060409396 GF4.csv\n",
      "166.55786421453976 GF5.csv\n",
      "7.046666666666666 CF1.csv\n",
      "6.114999999999999 CF2.csv\n",
      "5.088333333333333 CF3.csv\n",
      "7.598333333333334 CF4.csv\n",
      "7.098333333333333 CF5.csv\n",
      "5.423333333333333 GF1.csv\n",
      "4.991666666666667 GF2.csv\n",
      "5.673333333333333 GF3.csv\n",
      "4.801666666666668 GF4.csv\n",
      "5.410000000000001 GF5.csv\n"
     ]
    }
   ],
   "source": [
    "# find Ultimate Tensile Strengths & Stroke Strain\n",
    "all_files = files + files2\n",
    "def calculate_max(parameter):\n",
    "    for i in all_files:\n",
    "        df = read_data(i)\n",
    "        print(df[parameter].max(), i)\n",
    "    return\n",
    "\n",
    "calculate_max(\"Stress\")\n",
    "calculate_max(\"Stroke Strain (%)\")"
   ]
  },
  {
   "cell_type": "code",
   "execution_count": 102,
   "metadata": {},
   "outputs": [
    {
     "output_type": "stream",
     "name": "stdout",
     "text": [
      "1.4012522004849366 CF1.csv 30 28.146139878876447\n",
      "1.4934538099048638 CF2.csv 38 39.10765092913667\n",
      "1.4397367338543816 CF3.csv 31 29.651720828191415\n",
      "1.121579183490356 CF4.csv 24 16.63675788844026\n",
      "1.478512288079905 CF5.csv 21 17.43184240884333\n",
      "0.913533643458146 GF1.csv 7 2.452639238414805\n",
      "1.0144245877579188 GF2.csv 17 13.414058534058533\n",
      "0.9364777883296398 GF3.csv 8 3.5744433892582035\n",
      "1.0504885822395993 GF4.csv 8 3.821152217896543\n",
      "1.126405754381468 GF5.csv 8 4.780966646374676\n"
     ]
    }
   ],
   "source": [
    "# find the max gradient, the point it's at, and the yield stress\n",
    "for i in all_files:\n",
    "    all_data = read_data(i)\n",
    "    df = read_data(i)['instantaneous_gradient']\n",
    "    max_gradient = df.max()\n",
    "    max_gradient_index = df.idxmax()\n",
    "    yield_stress = all_data.at[max_gradient_index, 'Stress']\n",
    "\n",
    "    print (max_gradient, i, max_gradient_index, yield_stress)"
   ]
  }
 ]
}